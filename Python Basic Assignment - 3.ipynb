{
 "cells": [
  {
   "cell_type": "raw",
   "metadata": {},
   "source": [
    "1.    Having functions in our code is always advantageous because it reduce the the length of code while using functions         for repeatedly doing works. It also helps to read the code flow easily."
   ]
  },
  {
   "cell_type": "raw",
   "metadata": {},
   "source": [
    "2.    The code inside a funtions only runs when a function is called."
   ]
  },
  {
   "cell_type": "raw",
   "metadata": {},
   "source": [
    "3.    We use def keyword followed by function name to create any function."
   ]
  },
  {
   "cell_type": "raw",
   "metadata": {},
   "source": [
    "4.    Fucntion:- It is way to write code which has been used define function.\n",
    "      Function call:- After writing function definition we need to call function by passing value of parameter if function       definition has argument.\n",
    "      Without calling funtion, funtion body can't be run."
   ]
  },
  {
   "cell_type": "raw",
   "metadata": {},
   "source": [
    "5.    There is only one Global scope in Python. This scope remains existance until program terminates.\n",
    "      There are four local scope in Python:- local, enclosing, global, and built-in"
   ]
  },
  {
   "cell_type": "raw",
   "metadata": {},
   "source": [
    "6.    A local variable retains its value until the next time the function is called."
   ]
  },
  {
   "cell_type": "raw",
   "metadata": {},
   "source": [
    "7.    When we call a function it should return a value(not compulsory). Return is followed by expressions or values. If           there is not any expressions or values then None is returned.\n",
    "      No we can't return value in an expression."
   ]
  },
  {
   "cell_type": "raw",
   "metadata": {},
   "source": [
    "8.    If a function doesn't have return statement then it will return None value."
   ]
  },
  {
   "cell_type": "raw",
   "metadata": {},
   "source": [
    "9.    We can use the global keyword to make function variable as global variable."
   ]
  },
  {
   "cell_type": "raw",
   "metadata": {},
   "source": [
    "10.   Data type of None is NoneType."
   ]
  },
  {
   "cell_type": "raw",
   "metadata": {},
   "source": [
    "11.   It will import the modules of areallyourpetsnamederic."
   ]
  },
  {
   "cell_type": "raw",
   "metadata": {},
   "source": [
    "12.   We would call spam.bacon()."
   ]
  },
  {
   "cell_type": "raw",
   "metadata": {},
   "source": [
    "13.   To save a program from crashing if it has error, we can use exceptional handling concept."
   ]
  },
  {
   "cell_type": "raw",
   "metadata": {},
   "source": [
    "14.   In the try clause, all statements are executed until an exception is encountered. except is used to catch and handle       the exception(s) that are encountered in the try clause."
   ]
  },
  {
   "cell_type": "code",
   "execution_count": null,
   "metadata": {},
   "outputs": [],
   "source": []
  }
 ],
 "metadata": {
  "kernelspec": {
   "display_name": "Python 3",
   "language": "python",
   "name": "python3"
  },
  "language_info": {
   "codemirror_mode": {
    "name": "ipython",
    "version": 3
   },
   "file_extension": ".py",
   "mimetype": "text/x-python",
   "name": "python",
   "nbconvert_exporter": "python",
   "pygments_lexer": "ipython3",
   "version": "3.8.5"
  }
 },
 "nbformat": 4,
 "nbformat_minor": 4
}
