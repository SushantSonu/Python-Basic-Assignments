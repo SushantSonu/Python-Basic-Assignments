{
 "cells": [
  {
   "cell_type": "markdown",
   "metadata": {},
   "source": [
    "#1.  To insert characters that are illegal in a string, use an escape character.\n",
    "     An escape character is a backslash \\ followed by the character you want to insert.\n",
    "     There are many examples as follows:-\n",
    "            \\'--Single Quote\n",
    "            \\\\--Backslash\n",
    "            \\n--New Line\n",
    "            \\r--Carriage Return\n",
    "            \\t--Tab\n",
    "            \\b--Backspace\n",
    "            \\f--Form Feed"
   ]
  },
  {
   "cell_type": "markdown",
   "metadata": {},
   "source": [
    "#2.\n",
    "The escape character n stands for new line whereas t stands for tab space."
   ]
  },
  {
   "cell_type": "markdown",
   "metadata": {},
   "source": [
    "#3.  We use \\\\ to include backslash in a string."
   ]
  },
  {
   "cell_type": "markdown",
   "metadata": {},
   "source": [
    "#4. The single quote character in the word Howl's not escaped a problem because there is no backslash before single qoute."
   ]
  },
  {
   "cell_type": "markdown",
   "metadata": {},
   "source": [
    "#5. We can use triple quote if we dnt want to use n escape charater."
   ]
  },
  {
   "cell_type": "markdown",
   "metadata": {},
   "source": [
    "#6. 'Hello, world!'[1]--->'e'\n",
    "    'Hello, world!'[0:5]--->'Hello'\n",
    "    'Hello, world!'[:5]--->'Hello'\n",
    "    'Hello, world!'[3:]--->'lo, world!'"
   ]
  },
  {
   "cell_type": "markdown",
   "metadata": {},
   "source": [
    "#7. 'Hello'.upper()---->'HELLO'\n",
    "    'Hello'.upper().isupper()---->True\n",
    "    'Hello'.upper().lower()---->'hello'"
   ]
  },
  {
   "cell_type": "markdown",
   "metadata": {},
   "source": [
    "#8.  ['Remember,', 'remember,', 'the', 'fifth', 'of', 'July.'] \n",
    "     'There-can-only-one.'"
   ]
  },
  {
   "cell_type": "markdown",
   "metadata": {},
   "source": [
    "#9. rjust(), ljust() and center()"
   ]
  },
  {
   "cell_type": "markdown",
   "metadata": {},
   "source": [
    "#10.  We can use  trim() function ."
   ]
  },
  {
   "cell_type": "code",
   "execution_count": null,
   "metadata": {},
   "outputs": [],
   "source": []
  }
 ],
 "metadata": {
  "kernelspec": {
   "display_name": "Python 3",
   "language": "python",
   "name": "python3"
  },
  "language_info": {
   "codemirror_mode": {
    "name": "ipython",
    "version": 3
   },
   "file_extension": ".py",
   "mimetype": "text/x-python",
   "name": "python",
   "nbconvert_exporter": "python",
   "pygments_lexer": "ipython3",
   "version": "3.8.5"
  }
 },
 "nbformat": 4,
 "nbformat_minor": 4
}
