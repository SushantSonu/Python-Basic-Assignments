{
 "cells": [
  {
   "cell_type": "markdown",
   "metadata": {},
   "source": [
    "1.  True and False are two values of boolean data type. \n",
    "    We write them as True and False."
   ]
  },
  {
   "cell_type": "markdown",
   "metadata": {},
   "source": [
    "2.  Three different types of boolean operators are:-\n",
    "    - And \n",
    "    - Or\n",
    "    - Not"
   ]
  },
  {
   "cell_type": "markdown",
   "metadata": {},
   "source": [
    "3.  Truth table of boolean operators are as follows:-\n",
    "    * And :-\n",
    "        True   True   -   True\n",
    "        True   False  -   False\n",
    "        False  True   -   False\n",
    "        False  False  -   False\n",
    "      \n",
    "    * Or :-\n",
    "        True   True   -   True\n",
    "        True   False  -   True\n",
    "        False  True   -   True\n",
    "        False  False  -   False\n",
    "        \n",
    "    * Not :-\n",
    "        ~True  -   False\n",
    "        ~False -   True"
   ]
  },
  {
   "cell_type": "markdown",
   "metadata": {},
   "source": [
    "4.  (5 > 4) and (3 == 5)     ------->  False\n",
    "    not (5 > 4)              ------->  False\n",
    "    (5 > 4) and (3 == 5)     ------->  True\n",
    "    not((5 > 4) or (3 == 5)) ------->  False\n",
    "    (True and True) and (True == False) ------> False\n",
    "    (not False) or (not True) ------>  True"
   ]
  },
  {
   "cell_type": "markdown",
   "metadata": {},
   "source": [
    "5.  The six comparison operators are > , < , >= , <= , == , !=."
   ]
  },
  {
   "cell_type": "markdown",
   "metadata": {},
   "source": [
    "6.  For assignment, we use single equal symbol whereas for equals, we use double equals symbols.\n",
    "    Example:- a==5 -- here it compares whether value inside a is 5.\n",
    "              a=5  -- here 5 is assigned in variable a.\n",
    "            "
   ]
  },
  {
   "cell_type": "markdown",
   "metadata": {},
   "source": [
    "7.  spam = 0\n",
    "    if spam == 10:\n",
    "        print('egg')\n",
    "    if spam > 5:\n",
    "        print('bacon')\n",
    "    else:\n",
    "        print('ham')\n",
    "        print('spam')\n",
    "        print('spam')"
   ]
  },
  {
   "cell_type": "markdown",
   "metadata": {},
   "source": [
    "8.  spam = 0\n",
    "    if spam == 1:\n",
    "        print('Hello')\n",
    "    if spam == 2:\n",
    "        print('Howdy')\n",
    "    else:\n",
    "        print('Greetings!')\n",
    "        "
   ]
  },
  {
   "cell_type": "markdown",
   "metadata": {},
   "source": [
    "9.  We should press CTRL+C to exit out the infinite loop."
   ]
  },
  {
   "cell_type": "markdown",
   "metadata": {},
   "source": [
    "10.  Break:-  It is used to stop the iteration of the loop and exit the loop.\n",
    "     Continue:- It is used to continue to next iteration of the loop."
   ]
  },
  {
   "cell_type": "markdown",
   "metadata": {},
   "source": [
    "11.  In a for loop, there is no difference between range(10), range(0, 10), and range(0, 10, 1). They all produce a list of      elements starting from 0 to 9. It will excludes 10."
   ]
  },
  {
   "cell_type": "markdown",
   "metadata": {},
   "source": [
    "#12 using for loop\n",
    "\n",
    "for i in range(1,11):\n",
    "    print(i, end=' ')\n",
    "\n",
    "print('\\n')\n",
    "#12 using for loop\n",
    "i=1\n",
    "while i<=10:\n",
    "    print(i, end=' ')\n",
    "    i+=1"
   ]
  },
  {
   "cell_type": "markdown",
   "metadata": {},
   "source": [
    "13.  import spam as sp\n",
    "     sp.bacon()"
   ]
  },
  {
   "cell_type": "code",
   "execution_count": null,
   "metadata": {},
   "outputs": [],
   "source": []
  }
 ],
 "metadata": {
  "kernelspec": {
   "display_name": "Python 3",
   "language": "python",
   "name": "python3"
  },
  "language_info": {
   "codemirror_mode": {
    "name": "ipython",
    "version": 3
   },
   "file_extension": ".py",
   "mimetype": "text/x-python",
   "name": "python",
   "nbconvert_exporter": "python",
   "pygments_lexer": "ipython3",
   "version": "3.8.5"
  }
 },
 "nbformat": 4,
 "nbformat_minor": 4
}
