{
 "cells": [
  {
   "cell_type": "markdown",
   "metadata": {},
   "source": [
    "1.   Values = 'hello' , -87.8 , 6 Expressions = *, - , / , +"
   ]
  },
  {
   "cell_type": "markdown",
   "metadata": {},
   "source": [
    "2.  String:- String is a type of variable.\n",
    "    String is immutable object.\n",
    "    Ex- \"Sushant\", 'Kumar','646546sdas', etc.\n",
    "     \n",
    "    Variable:- Variable is place to store any information or data. Like we can store a string in a variable as given below.\n",
    "    S= \"I am Sushant Kumar\"\n",
    "    Here S is a variable which is holding string value as \"I am Sushant Kumar\"."
   ]
  },
  {
   "cell_type": "markdown",
   "metadata": {},
   "source": [
    " 3.  Data types are entities which hold any particular type of data in it.There are many different types of data types in Python like int, str, float, list, tuple, set, dictionay, boolean, etc.\n",
    "     * int :- It can hold only integer data types which can be positive as well as negative numbers. I can hold unlimited number of integers.\n",
    "     * float :- It can hold the floating point or decimal type of data. Ex- 5.8 , -54.0 ,644255.9 , etc\n",
    "     * str :- It can hold string type of data. Always take string under double or single quotes. Once assigned we can't modify the values of that variable. Ex:- \"I am Sushant Kumar\"\n",
    "        "
   ]
  },
  {
   "cell_type": "markdown",
   "metadata": {},
   "source": [
    "4.   Expressions are combinations of operator and operands. They do some calculations and gives the required results.  \n",
    "\n",
    "     Example:- 8*1+6-10/2\n",
    "     In this expressions * , - , + and / are operators and 8 , 1 , 6 , 10 and 2 are operands.\n",
    "     After solving this expression we will get 9.\n",
    "     "
   ]
  },
  {
   "cell_type": "markdown",
   "metadata": {},
   "source": [
    "5.  Expression gives a result after evaluation the combination of operators, values and varibales whereas statements represent an action or command like assign value or print value."
   ]
  },
  {
   "cell_type": "markdown",
   "metadata": {},
   "source": [
    "6.  22"
   ]
  },
  {
   "cell_type": "markdown",
   "metadata": {},
   "source": [
    "7.  spamspamspam , spamspamspam"
   ]
  },
  {
   "cell_type": "markdown",
   "metadata": {},
   "source": [
    "8.  Since there is rule ins Python that variable can't starts with numerical values so eggs is valid variable and 100 is not."
   ]
  },
  {
   "cell_type": "markdown",
   "metadata": {},
   "source": [
    "9.  int() , float() , str()"
   ]
  },
  {
   "cell_type": "markdown",
   "metadata": {},
   "source": [
    "10.  This will cause error because we are tyring to add different different types of data types. We can fix it as below-\n",
    "     'I have eaten'+' 99 '+'burritos'"
   ]
  }
 ],
 "metadata": {
  "kernelspec": {
   "display_name": "Python 3",
   "language": "python",
   "name": "python3"
  },
  "language_info": {
   "codemirror_mode": {
    "name": "ipython",
    "version": 3
   },
   "file_extension": ".py",
   "mimetype": "text/x-python",
   "name": "python",
   "nbconvert_exporter": "python",
   "pygments_lexer": "ipython3",
   "version": "3.8.5"
  }
 },
 "nbformat": 4,
 "nbformat_minor": 4
}
